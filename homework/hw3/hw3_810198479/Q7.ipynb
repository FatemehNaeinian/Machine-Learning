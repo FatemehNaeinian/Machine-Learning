{
 "cells": [
  {
   "cell_type": "code",
   "execution_count": 4,
   "metadata": {},
   "outputs": [],
   "source": [
    "import matplotlib.pyplot as plt\n",
    "import numpy as np"
   ]
  },
  {
   "cell_type": "code",
   "execution_count": 7,
   "metadata": {},
   "outputs": [],
   "source": [
    "def Perceptron(X, W, Y, LR):\n",
    "    Sum = 0\n",
    "    for i in range(len(W)):\n",
    "        Sum += X[i] * W[i]\n",
    "    if Sum > 0:\n",
    "        Ypred = 1\n",
    "    else:\n",
    "        Ypred = 0\n",
    "    if Y != Ypred:\n",
    "        err = Y - Ypred\n",
    "        for i in range(len(W)):\n",
    "            W[i] = W[i] + (LR * err) \n",
    "    return W"
   ]
  },
  {
   "cell_type": "code",
   "execution_count": 24,
   "metadata": {},
   "outputs": [
    {
     "data": {
      "text/plain": [
       "Text(0.5, 1.0, 'mlp')"
      ]
     },
     "execution_count": 24,
     "metadata": {},
     "output_type": "execute_result"
    },
    {
     "data": {
      "image/png": "[encoded data removed]",
      "text/plain": [
       "<Figure size 432x288 with 1 Axes>"
      ]
     },
     "metadata": {
      "needs_background": "light"
     },
     "output_type": "display_data"
    }
   ],
   "source": [
    "learning_rate = 0.1\n",
    "weight = [0.8, 0.8, 0.8]\n",
    "\n",
    "x = [2, 2.5, 3, 0, 1, 1, 2, 2, 3, 3]\n",
    "y = [0, 0, 0, 0, -1, 1, -2, 2, -3, 3]\n",
    "Label = [1, 1, 1, 0, 0, 0, 0, 0, 0, 0]\n",
    "\n",
    "for i in range(50):\n",
    "    for j in range(len(Label)):\n",
    "        Weights = Perceptron([x[j], y[j], 1], weight , Label[j],learning_rate)\n",
    "        \n",
    "\n",
    "x_line = np.arange(len(x))\n",
    "first_line = []\n",
    "for i in x_line:\n",
    "    first_line.append((i * Weights[0]) + (i * Weights[1]))\n",
    "second_line = []\n",
    "for i in x_line:\n",
    "    second_line.append((-1 * i * Weights[0]) - (i * Weights[1]))\n",
    "plt.scatter(x[:3], y[:3], c = \"red\")\n",
    "plt.scatter(x[3:], y[3:], c = \"blue\")\n",
    "plt.plot(x_line, first_line, c = \"purple\")\n",
    "plt.plot(x_line, second_line, c = \"purple\")\n",
    "plt.title(\"mlp\")\n"
   ]
  },
  {
   "cell_type": "code",
   "execution_count": null,
   "metadata": {},
   "outputs": [],
   "source": []
  }
 ],
 "metadata": {
  "kernelspec": {
   "display_name": "Python 3",
   "language": "python",
   "name": "python3"
  },
  "language_info": {
   "codemirror_mode": {
    "name": "ipython",
    "version": 3
   },
   "file_extension": ".py",
   "mimetype": "text/x-python",
   "name": "python",
   "nbconvert_exporter": "python",
   "pygments_lexer": "ipython3",
   "version": "3.8.3"
  }
 },
 "nbformat": 4,
 "nbformat_minor": 4
}
