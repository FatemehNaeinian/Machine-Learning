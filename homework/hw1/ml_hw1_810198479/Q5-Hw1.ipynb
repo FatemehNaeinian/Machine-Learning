{
 "cells": [
  {
   "cell_type": "code",
   "execution_count": 1,
   "metadata": {},
   "outputs": [],
   "source": [
    "import cv2\n",
    "import glob\n",
    "from PIL import Image\n",
    "import numpy as np"
   ]
  },
  {
   "cell_type": "code",
   "execution_count": 2,
   "metadata": {},
   "outputs": [],
   "source": [
    "Tp = 0\n",
    "Fn = 0\n",
    "Fp = 0\n",
    "Tn = 0\n",
    "for name in glob.glob('Images\\*[0-9].*'):\n",
    "    img = cv2.imread(name, cv2.IMREAD_UNCHANGED)\n",
    "    height , width ,x =img.shape\n",
    "    rgb=[0,0,0]\n",
    "    for i in range(height):\n",
    "        for j in range(width):\n",
    "            rgb += img[i,j]\n",
    "    if (name[7] == 'c' and rgb[2]<rgb[0]):\n",
    "        Tp += 1\n",
    "    if (name[7] == 'c' and rgb[2]>rgb[0]) :\n",
    "        Fn += 1\n",
    "    if (name[7] == 'm' and rgb[2]<rgb[0]):\n",
    "        Fp += 1\n",
    "    if (name[7] == 'm' and rgb[2]>rgb[0]):\n",
    "        Tn += 1"
   ]
  },
  {
   "cell_type": "code",
   "execution_count": 3,
   "metadata": {},
   "outputs": [
    {
     "name": "stdout",
     "output_type": "stream",
     "text": [
      "      c       |       m\n",
      "  --------------------------------------------------\n",
      "c | TP=  46    |   FN=   18    |   recall=  0.71875\n",
      "  ----------------------------------------------------\n",
      "m | FP=   1    |   TN=    57   |   specifity=  0.9827586206896551\n",
      "----------------------------------------------------\n",
      "   percision=  0.9787234042553191   | negetive predictive value = 0.76\n",
      "   Accuracy= 0.8442622950819673\n"
     ]
    }
   ],
   "source": [
    "print('      c       |       m')\n",
    "print('  --------------------------------------------------')\n",
    "print('c | TP= ',Tp,'   |   FN=  ',Fn,'   |   recall= ',Tp/(Tp+Fn))\n",
    "print('  ----------------------------------------------------')\n",
    "print('m | FP=  ',Fp,'   |   TN=   ',Tn,'  |   specifity= ',Tn/(Tn+Fp))\n",
    "print('----------------------------------------------------')\n",
    "print('   percision= ',Tp/(Tp+Fp),'  | negetive predictive value =',Tn/(Tn+Fn))\n",
    "print('   Accuracy=',(Tp+Tn)/(Tp+Tn+Fn+Fp))"
   ]
  }
 ],
 "metadata": {
  "kernelspec": {
   "display_name": "Python 3",
   "language": "python",
   "name": "python3"
  },
  "language_info": {
   "codemirror_mode": {
    "name": "ipython",
    "version": 3
   },
   "file_extension": ".py",
   "mimetype": "text/x-python",
   "name": "python",
   "nbconvert_exporter": "python",
   "pygments_lexer": "ipython3",
   "version": "3.8.3"
  }
 },
 "nbformat": 4,
 "nbformat_minor": 4
}
