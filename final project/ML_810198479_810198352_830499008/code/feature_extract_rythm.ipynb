{
 "cells": [
  {
   "cell_type": "code",
   "execution_count": 1,
   "metadata": {},
   "outputs": [],
   "source": [
    "import csv\n",
    "import os\n",
    "import librosa\n",
    "import pandas as pd\n",
    "import numpy as np\n",
    "\n",
    "import warnings\n",
    "warnings.filterwarnings(\"ignore\")"
   ]
  },
  {
   "cell_type": "code",
   "execution_count": 10,
   "metadata": {},
   "outputs": [],
   "source": [
    "def feature_extract_rythm(y, sr, voice_id):\n",
    "    features = []\n",
    "\n",
    "    features.append(voice_id)  # 1\n",
    "\n",
    "    rythmic = abs(librosa.feature.fourier_tempogram(y, sr=sr))\n",
    "    features += rythmic.mean(axis=1).tolist()   #193\n",
    "    \n",
    "    return features"
   ]
  },
  {
   "cell_type": "code",
   "execution_count": 11,
   "metadata": {},
   "outputs": [],
   "source": [
    "def header_name(name,num):\n",
    "    names_list=[]\n",
    "    for i in range(num):\n",
    "        temp=name+str(i)\n",
    "        names_list.append(temp)\n",
    "    return names_list\n"
   ]
  },
  {
   "cell_type": "code",
   "execution_count": 12,
   "metadata": {},
   "outputs": [],
   "source": [
    "rows=[]\n",
    "\n",
    "voices_path = \"D:\\\\Term6\\\\Machine Learning\\\\final_last_term\\\\Copy(1)\"\n",
    "csv_path = \"C:\\\\Users\\\\admin\\\\OneDrive\\\\Desktop\\\\KARAJ_ML\\\\dataV4.csv\"\n",
    "\n",
    "file_names = os.listdir(voices_path)\n",
    "\n",
    "df = pd.read_csv(csv_path)\n",
    "df = df.values\n",
    "shapee = (df.shape)[1]\n",
    "voice_ids = df[:,(shapee-1)]\n",
    "df = np.delete(df, (shapee-1), 1)"
   ]
  },
  {
   "cell_type": "code",
   "execution_count": 13,
   "metadata": {},
   "outputs": [],
   "source": [
    "feature1_list=[\"voice_id\"]\n",
    "tempo_mean_list=header_name(\"tempo\",193)\n",
    "\n",
    "rythmic_feature_list=feature1_list+tempo_mean_list + [\"emotion_ID\",\"Text_ID\",\"Sex\",\"Age\"]"
   ]
  },
  {
   "cell_type": "code",
   "execution_count": 14,
   "metadata": {},
   "outputs": [],
   "source": [
    "for i in range(len(voice_ids)):\n",
    "    name = str(voice_ids[i])\n",
    "    voice_path_temp = voices_path + '\\\\' + name + '.wav'\n",
    "    if os.path.exists(voice_path_temp):\n",
    "        temp_data = list(df[i])\n",
    "        y, sr=librosa.load(voice_path_temp)\n",
    "        feature_temp_rythm=feature_extract_rythm(y,sr,name)\n",
    "        feature_temp_rythm += temp_data\n",
    "        rows.append(feature_temp_rythm)"
   ]
  },
  {
   "cell_type": "code",
   "execution_count": 8,
   "metadata": {},
   "outputs": [],
   "source": [
    "df_rythm = pd.DataFrame(rows, columns=rythmic_feature_list)\n",
    "\n",
    "df_rythm.to_csv('C:\\\\Users\\\\admin\\\\OneDrive\\\\Desktop\\\\KARAJ_ML\\\\features_rythmic_final.csv', index = False)\n",
    "\n"
   ]
  }
 ],
 "metadata": {
  "interpreter": {
   "hash": "3dfbdc976b0696631a6dcfae5f579c28269497e2065354a0a4c704c1d62591b7"
  },
  "kernelspec": {
   "display_name": "Python 3.9.7 ('base')",
   "language": "python",
   "name": "python3"
  },
  "language_info": {
   "codemirror_mode": {
    "name": "ipython",
    "version": 3
   },
   "file_extension": ".py",
   "mimetype": "text/x-python",
   "name": "python",
   "nbconvert_exporter": "python",
   "pygments_lexer": "ipython3",
   "version": "3.9.7"
  },
  "orig_nbformat": 4
 },
 "nbformat": 4,
 "nbformat_minor": 2
}
