{
 "cells": [
  {
   "cell_type": "code",
   "execution_count": 1,
   "metadata": {},
   "outputs": [],
   "source": [
    "import numpy as np\n",
    "import matplotlib.pyplot as plt\n",
    "import pandas as pd\n",
    "from sklearn import preprocessing\n",
    "from sklearn.model_selection import train_test_split\n",
    "from sklearn.svm import SVC\n",
    "from sklearn.metrics import accuracy_score\n",
    "from sklearn.model_selection import GridSearchCV\n",
    "from sklearn.metrics import confusion_matrix"
   ]
  },
  {
   "cell_type": "code",
   "execution_count": 2,
   "metadata": {},
   "outputs": [],
   "source": [
    "from sklearn.utils import shuffle\n",
    "from sklearn.preprocessing import StandardScaler\n",
    "from sklearn.neural_network import MLPClassifier\n",
    "from sklearn.metrics import accuracy_score\n"
   ]
  },
  {
   "cell_type": "code",
   "execution_count": 3,
   "metadata": {},
   "outputs": [],
   "source": [
    "df_spectgram=pd.read_csv('C:\\\\Users\\\\admin\\\\OneDrive\\\\Desktop\\\\KARAJ_ML\\\\features_spectrum_final.csv')\n",
    "df_rythm=pd.read_csv('C:\\\\Users\\\\admin\\\\OneDrive\\\\Desktop\\\\KARAJ_ML\\\\features_rythm_final.csv')\n"
   ]
  },
  {
   "cell_type": "code",
   "execution_count": 5,
   "metadata": {},
   "outputs": [],
   "source": [
    "def dataframe_to_test_train(df):\n",
    "\n",
    "    dfy=df[['voice_id','Age','Text_ID','Sex','emotion_ID']]\n",
    "    dfx=df.drop(['voice_id','Age','Text_ID','Sex','emotion_ID'], axis = 1)\n",
    "    feature_names=list(dfx)\n",
    "    scaler = StandardScaler().fit(dfx)\n",
    "    dfx = scaler.transform(dfx)\n",
    "    dfx=pd.DataFrame(dfx,columns =feature_names)\n",
    "    df = pd.concat([dfx, dfy], axis = 1)\n",
    "    df_all=df\n",
    "    df_all= df_all.sample(frac=1, random_state=1)\n",
    "    df_testonly=df.loc[0:374,:]\n",
    "    df=df.drop(df.index[0:375] )\n",
    "    df = df.sample(frac=1, random_state=1)\n",
    "    df_testonly = df_testonly.sample(frac=1, random_state=1)\n",
    "    y=df[['voice_id','Age','Text_ID','Sex','emotion_ID']]\n",
    "    y_testonly=df_testonly[['voice_id','Age','Text_ID','Sex','emotion_ID']]\n",
    "    x=df\n",
    "    x=x.drop(['voice_id','Age','Text_ID','Sex','emotion_ID'], axis = 1)\n",
    "    x_testonly=df_testonly\n",
    "    x_testonly=x_testonly.drop(['voice_id','Age','Text_ID','Sex','emotion_ID'], axis = 1)\n",
    "    x_train, x_test, y_train, y_test = train_test_split(x, y, test_size=0.28, random_state=42)\n",
    "    x_test_total = [x_test, x_testonly]\n",
    "    x_test = pd.concat(x_test_total)\n",
    "    y_test_total = [y_test, y_testonly]\n",
    "    y_test = pd.concat(y_test_total)\n",
    "    return x_train,x_test,y_train,y_test,df_all\n",
    "    "
   ]
  },
  {
   "cell_type": "code",
   "execution_count": 6,
   "metadata": {},
   "outputs": [],
   "source": [
    "x_train_spectgram,x_test_spectgram,y_train_spectgram,y_test_spectgram,df_all_spectgram=dataframe_to_test_train(df_spectgram)\n",
    "x_train_rythm,x_test_rythm,y_train_rythm,y_test_rythm,df_all_rythm=dataframe_to_test_train(df_rythm)"
   ]
  },
  {
   "cell_type": "code",
   "execution_count": 7,
   "metadata": {},
   "outputs": [],
   "source": [
    "x_train_spectgram.to_csv('C:\\\\Users\\\\admin\\\\OneDrive\\\\Desktop\\\\KARAJ_ML\\\\X_train_spectgram.csv')\n",
    "y_train_spectgram.to_csv('C:\\\\Users\\\\admin\\\\OneDrive\\\\Desktop\\\\KARAJ_ML\\\\Y_train_spectgram.csv')\n",
    "x_test_spectgram.to_csv('C:\\\\Users\\\\admin\\\\OneDrive\\\\Desktop\\\\KARAJ_ML\\\\X_test_spectgram.csv')\n",
    "y_test_spectgram.to_csv('C:\\\\Users\\\\admin\\\\OneDrive\\\\Desktop\\\\KARAJ_ML\\\\Y_test_spectgram.csv')\n",
    "df_all_spectgram.to_csv('C:\\\\Users\\\\admin\\\\OneDrive\\\\Desktop\\\\KARAJ_ML\\\\Final_Dat_spectgram.csv')\n",
    "x_train_rythm.to_csv('C:\\\\Users\\\\admin\\\\OneDrive\\\\Desktop\\\\KARAJ_ML\\\\X_train_rythm.csv')\n",
    "y_train_rythm.to_csv('C:\\\\Users\\\\admin\\\\OneDrive\\\\Desktop\\\\KARAJ_ML\\\\Y_train_rythm.csv')\n",
    "x_test_rythm.to_csv('C:\\\\Users\\\\admin\\\\OneDrive\\\\Desktop\\\\KARAJ_ML\\\\X_test_rythm.csv')\n",
    "y_test_rythm.to_csv('C:\\\\Users\\\\admin\\\\OneDrive\\\\Desktop\\\\KARAJ_ML\\\\Y_test_rythm.csv')\n",
    "df_all_rythm.to_csv('C:\\\\Users\\\\admin\\\\OneDrive\\\\Desktop\\\\KARAJ_ML\\\\Final_Dat_rythm.csv')"
   ]
  }
 ],
 "metadata": {
  "interpreter": {
   "hash": "3dfbdc976b0696631a6dcfae5f579c28269497e2065354a0a4c704c1d62591b7"
  },
  "kernelspec": {
   "display_name": "Python 3.9.7 ('base')",
   "language": "python",
   "name": "python3"
  },
  "language_info": {
   "codemirror_mode": {
    "name": "ipython",
    "version": 3
   },
   "file_extension": ".py",
   "mimetype": "text/x-python",
   "name": "python",
   "nbconvert_exporter": "python",
   "pygments_lexer": "ipython3",
   "version": "3.9.7"
  },
  "orig_nbformat": 4
 },
 "nbformat": 4,
 "nbformat_minor": 2
}
