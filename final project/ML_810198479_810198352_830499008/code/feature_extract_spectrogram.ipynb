{
 "cells": [
  {
   "cell_type": "code",
   "execution_count": 1,
   "metadata": {},
   "outputs": [],
   "source": [
    "import csv\n",
    "import os\n",
    "import librosa\n",
    "import pandas as pd\n",
    "import numpy as np\n",
    "\n",
    "import warnings\n",
    "warnings.filterwarnings(\"ignore\")"
   ]
  },
  {
   "cell_type": "code",
   "execution_count": 2,
   "metadata": {},
   "outputs": [],
   "source": [
    "def feature_extract_spectogram(y, sr, voice_id):\n",
    "    features = []\n",
    "\n",
    "    features.append(voice_id)  # 1\n",
    "\n",
    "    # zero crossing\n",
    "    zero_crossing = librosa.zero_crossings(y, pad=False)\n",
    "    features.append(zero_crossing.sum())  # f0\n",
    "\n",
    "    # spectral centroids\n",
    "    spectral_centroids = librosa.feature.spectral_centroid(y, sr=sr)[0]\n",
    "    features.append(spectral_centroids.mean())  # f1\n",
    "    #features.append(spectral_centroids.var())  # f2\n",
    "\n",
    "    # spectral rolloff\n",
    "    spectral_rolloff = librosa.feature.spectral_rolloff(y, sr=sr)[0]\n",
    "    features.append(spectral_rolloff.mean())  # f3\n",
    "    #features.append(spectral_rolloff.var())  # f4\n",
    "\n",
    "    # Chroma Frequencies\n",
    "    chromagram = librosa.feature.chroma_stft(y, sr=sr)\n",
    "    features += chromagram.mean(axis=1).tolist()  # f5 - f16\n",
    "    #features += chromagram.var(axis=1).tolist()  # f17 - f28\n",
    "\n",
    "    # Mel-Frequency Cepstral Coefficients\n",
    "    MFCCs = librosa.feature.mfcc(y, sr=sr,n_mfcc=50)\n",
    "    features += MFCCs.mean(axis=1).tolist()  # f29 - f48\n",
    "    #features += MFCCs.var(axis=1).tolist()  # f49 - f68\n",
    "\n",
    "    return features"
   ]
  },
  {
   "cell_type": "code",
   "execution_count": 3,
   "metadata": {},
   "outputs": [],
   "source": [
    "def feature_extract_rythm(y,sr,voice_id):\n",
    "    features = []\n",
    "    features.append(voice_id)\n",
    "\n",
    "\n",
    "    tempogram = abs(librosa.feature.fourier_tempogram(y, sr=sr))\n",
    "    features += tempogram.mean(axis=1).tolist()   #193\n",
    "\n",
    "    \n",
    "    return features"
   ]
  },
  {
   "cell_type": "code",
   "execution_count": 4,
   "metadata": {},
   "outputs": [],
   "source": [
    "def header_name(name,num):\n",
    "    names_list=[]\n",
    "    for i in range(num):\n",
    "        temp=name+str(i)\n",
    "        names_list.append(temp)\n",
    "    return names_list\n"
   ]
  },
  {
   "cell_type": "code",
   "execution_count": 5,
   "metadata": {},
   "outputs": [],
   "source": [
    "rows_spectrum=[]\n",
    "rows_rythm=[]\n",
    "\n",
    "voices_path = \"D:\\\\Term6\\\\Machine Learning\\\\final_last_term\\\\Copy(1)\"\n",
    "csv_path = \"C:\\\\Users\\\\admin\\\\OneDrive\\\\Desktop\\\\KARAJ_ML\\\\dataV4.csv\"\n",
    "\n",
    "file_names = os.listdir(voices_path)\n",
    "\n",
    "df = pd.read_csv(csv_path)\n",
    "df = df.values\n",
    "shapee = (df.shape)[1]\n",
    "voice_ids = df[:,(shapee-1)]\n",
    "df = np.delete(df, (shapee-1), 1)"
   ]
  },
  {
   "cell_type": "code",
   "execution_count": 6,
   "metadata": {},
   "outputs": [],
   "source": [
    "feature1_list=[\"voice_id\",\"zero_crossing\",\"spect_cent_mean\",\"spect_rol_mean\",]\n",
    "chrom_mean_list=header_name(\"chrom_mean_\",12)\n",
    "#chrom_var_list=header_name(\"chrom_var_\",12)\n",
    "mfcc_mean_list=header_name(\"mfcc_mean_\",50)\n",
    "#mfcc_var_list=header_name(\"mfcc_var_\",20)\n",
    "spectrogram_feature_list=feature1_list+chrom_mean_list+mfcc_mean_list + [\"emotion_ID\",\"Text_ID\",\"Sex\",\"Age\"]"
   ]
  },
  {
   "cell_type": "code",
   "execution_count": 7,
   "metadata": {},
   "outputs": [],
   "source": [
    "voiceid_list=[\"voice_id\"]\n",
    "rythm_mean_list=header_name(\"tempo_mean_\",193)\n",
    "\n",
    "rythmic_feature_list=voiceid_list+rythm_mean_list"
   ]
  },
  {
   "cell_type": "code",
   "execution_count": 9,
   "metadata": {},
   "outputs": [],
   "source": [
    "for i in range(len(voice_ids)):\n",
    "    name = str(voice_ids[i])\n",
    "    voice_path_temp = voices_path + '\\\\' + name + '.wav'\n",
    "    if os.path.exists(voice_path_temp):\n",
    "        temp_data = list(df[i])\n",
    "        y, sr=librosa.load(voice_path_temp)\n",
    "        feature_temp_spectrum=feature_extract_spectogram(y,sr,name)\n",
    "        feature_temp_spectrum += temp_data\n",
    "        rows_spectrum.append(feature_temp_spectrum)\n",
    "        feature_temp_rythm=feature_extract_rythm(y,sr,name)\n",
    "        rows_rythm.append(feature_temp_rythm)"
   ]
  },
  {
   "cell_type": "code",
   "execution_count": 10,
   "metadata": {},
   "outputs": [],
   "source": [
    "df_spectrum = pd.DataFrame(rows_spectrum, columns=spectrogram_feature_list)\n",
    "\n",
    "df_spectrum.to_csv('C:\\\\Users\\\\admin\\\\OneDrive\\\\Desktop\\\\KARAJ_ML\\\\features_spectrum_final.csv', index = False)\n",
    "\n",
    "df_rythm = pd.DataFrame(rows_rythm, columns=rythmic_feature_list)\n",
    "\n",
    "df_rythm.to_csv('C:\\\\Users\\\\admin\\\\OneDrive\\\\Desktop\\\\KARAJ_ML\\\\features_rythmic_final.csv', index = False)\n",
    "\n"
   ]
  }
 ],
 "metadata": {
  "interpreter": {
   "hash": "3dfbdc976b0696631a6dcfae5f579c28269497e2065354a0a4c704c1d62591b7"
  },
  "kernelspec": {
   "display_name": "Python 3.9.7 ('base')",
   "language": "python",
   "name": "python3"
  },
  "language_info": {
   "codemirror_mode": {
    "name": "ipython",
    "version": 3
   },
   "file_extension": ".py",
   "mimetype": "text/x-python",
   "name": "python",
   "nbconvert_exporter": "python",
   "pygments_lexer": "ipython3",
   "version": "3.9.7"
  },
  "orig_nbformat": 4
 },
 "nbformat": 4,
 "nbformat_minor": 2
}
